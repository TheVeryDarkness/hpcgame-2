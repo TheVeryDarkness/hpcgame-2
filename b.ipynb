{
 "cells": [
  {
   "cell_type": "markdown",
   "metadata": {},
   "source": [
    "1. `4` `8`\n",
    "2. 否。\n",
    "3. `128` `2048`\n",
    "4. `6` `0.5`\n",
    "5. `ABCDE`\n",
    "6. `5.0.6`\n",
    "7. `DABC`\n",
    "8. `53124`\n",
    "9. `1.0`\n",
    "10. `0.5` `1`\n"
   ]
  },
  {
   "cell_type": "markdown",
   "metadata": {},
   "source": [
    "# 结果\n",
    "\n",
    "- 60\n",
    "\n",
    "  ```json\n",
    "  {\"q1\":\"4 8\",\"q2\":\"否\",\"q3\":\"128 2048\",\"q5\":\"BCDE\",\"q6\":\"5.0.6\",\"q7\":\"DABC\",\"q8\":\"53124\",\"q10\":\"0.5 1\"}\n",
    "  ```\n",
    "\n",
    "- 70\n",
    "\n",
    "  ```json\n",
    "  {\"q1\":\"4 8\",\"q2\":\"否\",\"q3\":\"128 2048\",\"q4\":\"6 0.5\",\"q5\":\"ABCDE\",\"q6\":\"5.0.6\",\"q7\":\"DABC\",\"q8\":\"53124\",\"q9\":\"1.0\",\"q10\":\"0.5 1.0\"}\n",
    "  ```\n",
    "\n",
    "- 70\n",
    "\n",
    "  ```json\n",
    "  {\"q1\":\"4 8\",\"q2\":\"否\",\"q3\":\"128 2048\",\"q4\":\"6 0.5\",\"q5\":\"ABCDE\",\"q6\":\"5.0.6\",\"q7\":\"DABC\",\"q8\":\"53124\",\"q9\":\"1.0\",\"q10\":\"0.5 1\"}\n",
    "  ```"
   ]
  },
  {
   "cell_type": "markdown",
   "metadata": {},
   "source": [
    "# 鸡兔同笼\n",
    "\n",
    "$$\n",
    "\\begin{aligned}\n",
    "2b+s &= 16 \\\\\n",
    "b+s  &= 12 \\\\\n",
    "b    &= 4  \\\\\n",
    "s    &= 8  \\\\\n",
    "\\end{aligned}\n",
    "$$"
   ]
  },
  {
   "cell_type": "markdown",
   "metadata": {},
   "source": [
    "# 编程语言\n",
    "\n",
    "```c\n",
    "void f(const void **p) {}\n",
    "int main() {\n",
    "    void *p = 0;\n",
    "    void **q = &p;\n",
    "    f(q);\n",
    "}\n",
    "```"
   ]
  },
  {
   "cell_type": "markdown",
   "metadata": {},
   "source": [
    "# MISC\n",
    "\n",
    "<https://cloud.tencent.com/developer/article/2335311>\n",
    "\n",
    "<https://www.opencompute.org/documents/ocp-microscaling-formats-mx-v1-0-spec-final-pdf>"
   ]
  },
  {
   "cell_type": "markdown",
   "metadata": {},
   "source": [
    "# 储存\n",
    "\n",
    "<https://zhuanlan.zhihu.com/p/669385346>"
   ]
  },
  {
   "cell_type": "markdown",
   "metadata": {},
   "source": [
    "# OpenMPI\n",
    "\n",
    "<https://www.open-mpi.org/software/ompi/v5.0/>\n"
   ]
  },
  {
   "cell_type": "markdown",
   "metadata": {},
   "source": [
    "# RDMA\n",
    "\n",
    "<https://zhuanlan.zhihu.com/p/649468433>\n"
   ]
  },
  {
   "cell_type": "markdown",
   "metadata": {},
   "source": [
    "# HPCKit\n",
    "\n",
    "- HMPI <- OpenMPI\n",
    "- KBLAS <- BLAS\n",
    "- EXAGEAR 模拟器\n"
   ]
  },
  {
   "cell_type": "markdown",
   "metadata": {},
   "source": [
    "# 量子计算\n",
    "\n",
    "$$\n",
    "\\begin{aligned}\n",
    "    H &= \\frac{1}{\\sqrt{2}} \\begin{bmatrix}\n",
    "        1 &  1 \\\\\n",
    "        1 & -1 \\\\\n",
    "    \\end{bmatrix} \\\\\n",
    "    H \\ket{0} &= \\frac{1}{\\sqrt{2}} (\\ket{0} + \\ket{1}) \\\\\n",
    "    H^2 &= E \\\\\n",
    "    H^2 \\ket{0} &= \\ket{0} \\\\\n",
    "\\end{aligned}\n",
    "$$"
   ]
  }
 ],
 "metadata": {
  "kernelspec": {
   "display_name": "c2rust",
   "language": "python",
   "name": "python3"
  },
  "language_info": {
   "codemirror_mode": {
    "name": "ipython",
    "version": 3
   },
   "file_extension": ".py",
   "mimetype": "text/x-python",
   "name": "python",
   "nbconvert_exporter": "python",
   "pygments_lexer": "ipython3",
   "version": "3.13.0"
  }
 },
 "nbformat": 4,
 "nbformat_minor": 2
}
