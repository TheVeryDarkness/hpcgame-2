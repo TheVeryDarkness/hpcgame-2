{
 "cells": [
  {
   "cell_type": "markdown",
   "metadata": {},
   "source": [
    "1. `4` `8`\n",
    "2. 否。\n",
    "3. `128` `2048`\n",
    "4. `6` `0.5`\n",
    "5. `ABCDE`\n",
    "6. `5.0.6`\n",
    "7. `DABC`\n",
    "8. `53124`\n",
    "9. `1.0`\n",
    "10. 0.5 1.0\n"
   ]
  },
  {
   "cell_type": "markdown",
   "metadata": {},
   "source": [
    "# 鸡兔同笼\n",
    "\n",
    "$$\n",
    "\\begin{aligned}\n",
    "2b+s &= 16 \\\\\n",
    "b+s  &= 12 \\\\\n",
    "b    &= 4  \\\\\n",
    "s    &= 8  \\\\\n",
    "\\end{aligned}\n",
    "$$"
   ]
  },
  {
   "cell_type": "markdown",
   "metadata": {},
   "source": [
    "# 编程语言\n",
    "\n",
    "```c\n",
    "void f(const void **p) {}\n",
    "int main() {\n",
    "    void *p = 0;\n",
    "    void **q = &p;\n",
    "    f(q);\n",
    "}\n",
    "```"
   ]
  },
  {
   "cell_type": "markdown",
   "metadata": {},
   "source": [
    "# MISC\n",
    "\n",
    "<https://cloud.tencent.com/developer/article/2335311>\n",
    "\n",
    "<https://www.opencompute.org/documents/ocp-microscaling-formats-mx-v1-0-spec-final-pdf>"
   ]
  },
  {
   "cell_type": "code",
   "execution_count": 2,
   "metadata": {},
   "outputs": [
    {
     "ename": "ModuleNotFoundError",
     "evalue": "No module named 'matplotlib'",
     "output_type": "error",
     "traceback": [
      "\u001b[0;31m---------------------------------------------------------------------------\u001b[0m",
      "\u001b[0;31mModuleNotFoundError\u001b[0m                       Traceback (most recent call last)",
      "Cell \u001b[0;32mIn[2], line 1\u001b[0m\n\u001b[0;32m----> 1\u001b[0m \u001b[38;5;28;01mimport\u001b[39;00m\u001b[38;5;250m \u001b[39m\u001b[38;5;21;01mmatplotlib\u001b[39;00m\u001b[38;5;21;01m.\u001b[39;00m\u001b[38;5;21;01mpyplot\u001b[39;00m\u001b[38;5;250m \u001b[39m\u001b[38;5;28;01mas\u001b[39;00m\u001b[38;5;250m \u001b[39m\u001b[38;5;21;01mplt\u001b[39;00m\n\u001b[1;32m      2\u001b[0m \u001b[38;5;28;01mimport\u001b[39;00m\u001b[38;5;250m \u001b[39m\u001b[38;5;21;01mnumpy\u001b[39;00m\u001b[38;5;250m \u001b[39m\u001b[38;5;28;01mas\u001b[39;00m\u001b[38;5;250m \u001b[39m\u001b[38;5;21;01mnp\u001b[39;00m\n\u001b[1;32m      3\u001b[0m \u001b[38;5;28;01mfrom\u001b[39;00m\u001b[38;5;250m \u001b[39m\u001b[38;5;21;01mbitsandbytes\u001b[39;00m\u001b[38;5;250m \u001b[39m\u001b[38;5;28;01mimport\u001b[39;00m functional \u001b[38;5;28;01mas\u001b[39;00m bf\n",
      "\u001b[0;31mModuleNotFoundError\u001b[0m: No module named 'matplotlib'"
     ]
    }
   ],
   "source": [
    "import matplotlib.pyplot as plt\n",
    "import numpy as np\n",
    "from bitsandbytes import functional as bf\n",
    "\n",
    "\n",
    "length = np.pi * 4\n",
    "resolution = 256\n",
    "xvals = np.arange(0, length, length / resolution)\n",
    "wave = np.sin(xvals)\n",
    "\n",
    "x_4bit, qstate = bf.quantize_fp4(torch.tensor(wave, dtype=torch.float32, device=device), blocksize=64)\n",
    "dq = bf.dequantize_fp4(x_4bit, qstate)\n",
    "\n",
    "plt.rcParams[\"figure.figsize\"] = (14, 5)\n",
    "plt.title('FP8 Sine Wave')\n",
    "plt.plot(xvals, wave)\n",
    "plt.plot(xvals, dq.cpu().numpy())\n",
    "plt.show()"
   ]
  },
  {
   "cell_type": "markdown",
   "metadata": {},
   "source": [
    "# 储存\n",
    "\n",
    "<https://zhuanlan.zhihu.com/p/669385346>"
   ]
  },
  {
   "cell_type": "markdown",
   "metadata": {},
   "source": [
    "# OpenMPI\n",
    "\n",
    "<https://www.open-mpi.org/software/ompi/v5.0/>\n"
   ]
  },
  {
   "cell_type": "markdown",
   "metadata": {},
   "source": [
    "# RDMA\n",
    "\n",
    "<https://zhuanlan.zhihu.com/p/649468433>\n"
   ]
  },
  {
   "cell_type": "markdown",
   "metadata": {},
   "source": [
    "# HPCKit\n",
    "\n",
    "- HMPI <- OpenMPI\n",
    "- KBLAS <- BLAS\n",
    "- EXAGEAR 模拟器\n"
   ]
  },
  {
   "cell_type": "markdown",
   "metadata": {},
   "source": [
    "# 量子计算\n",
    "\n",
    "$$\n",
    "\\begin{aligned}\n",
    "    H &= \\frac{1}{\\sqrt{2}} \\begin{bmatrix}\n",
    "        1 &  1 \\\\\n",
    "        1 & -1 \\\\\n",
    "    \\end{bmatrix} \\\\\n",
    "    H \\ket{0} &= \\frac{1}{\\sqrt{2}} (\\ket{0} + \\ket{1}) \\\\\n",
    "    H^2 &= E \\\\\n",
    "    H^2 \\ket{0} &= \\ket{0} \\\\\n",
    "\\end{aligned}\n",
    "$$"
   ]
  }
 ],
 "metadata": {
  "kernelspec": {
   "display_name": "c2rust",
   "language": "python",
   "name": "python3"
  },
  "language_info": {
   "codemirror_mode": {
    "name": "ipython",
    "version": 3
   },
   "file_extension": ".py",
   "mimetype": "text/x-python",
   "name": "python",
   "nbconvert_exporter": "python",
   "pygments_lexer": "ipython3",
   "version": "3.13.0"
  }
 },
 "nbformat": 4,
 "nbformat_minor": 2
}
